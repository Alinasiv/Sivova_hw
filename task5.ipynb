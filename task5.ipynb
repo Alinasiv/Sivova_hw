{
  "nbformat": 4,
  "nbformat_minor": 0,
  "metadata": {
    "colab": {
      "provenance": [],
      "authorship_tag": "ABX9TyPcPb9ZX7fZSWAW6KwR3wCg",
      "include_colab_link": true
    },
    "kernelspec": {
      "name": "python3",
      "display_name": "Python 3"
    },
    "language_info": {
      "name": "python"
    }
  },
  "cells": [
    {
      "cell_type": "markdown",
      "metadata": {
        "id": "view-in-github",
        "colab_type": "text"
      },
      "source": [
        "<a href=\"https://colab.research.google.com/github/Alinasiv/Sivova_hw/blob/main/task5.ipynb\" target=\"_parent\"><img src=\"https://colab.research.google.com/assets/colab-badge.svg\" alt=\"Open In Colab\"/></a>"
      ]
    },
    {
      "cell_type": "markdown",
      "source": [
        "**Task5: Палиндром**\n",
        "На вход подается строка, выведите True если она является палиндромом и False иначе."
      ],
      "metadata": {
        "id": "-xH7iCEENl3G"
      }
    },
    {
      "cell_type": "code",
      "source": [
        "# Определяем новую функцию для определения палиндрома\n",
        "def task5(s):\n",
        "    # Преобразуем строку в нижний регистр, чтобы учитывать как палиндромы и исключения в виде имен, удаляем пробелы\n",
        "    s = s.lower()\n",
        "    s = s.replace(\" \", \"\")\n",
        "    # Проверяем, является ли строка равной своему обратному, чтобы в конце выводились True и False\n",
        "    return s == s[::-1]\n",
        "# Вызываем консоль для ввода, снова формат string\n",
        "input_string = input(\"Введите строку: \")\n",
        "result = task5(input_string)\n",
        "print(result)\n"
      ],
      "metadata": {
        "colab": {
          "base_uri": "https://localhost:8080/"
        },
        "id": "X-RR8UacNrtm",
        "outputId": "119e41a5-e501-467d-a622-ca5291beb2be"
      },
      "execution_count": 2,
      "outputs": [
        {
          "output_type": "stream",
          "name": "stdout",
          "text": [
            "Введите строку: Я иду с мечем судия\n",
            "True\n"
          ]
        }
      ]
    }
  ]
}