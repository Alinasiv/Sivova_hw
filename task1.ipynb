{
  "nbformat": 4,
  "nbformat_minor": 0,
  "metadata": {
    "colab": {
      "provenance": [],
      "authorship_tag": "ABX9TyNmxTJLAEQz/j2EFrx9HN/V",
      "include_colab_link": true
    },
    "kernelspec": {
      "name": "python3",
      "display_name": "Python 3"
    },
    "language_info": {
      "name": "python"
    }
  },
  "cells": [
    {
      "cell_type": "markdown",
      "metadata": {
        "id": "view-in-github",
        "colab_type": "text"
      },
      "source": [
        "<a href=\"https://colab.research.google.com/github/Alinasiv/Sivova_hw/blob/main/task1.ipynb\" target=\"_parent\"><img src=\"https://colab.research.google.com/assets/colab-badge.svg\" alt=\"Open In Colab\"/></a>"
      ]
    },
    {
      "cell_type": "markdown",
      "source": [
        "Task1: Наибольшее произведение двух чисел\n",
        "Дан список, заполненный произвольными целыми числами. Найдите в этом списке два числа, произведение которых максимально. Выведите эти числа в любом порядке. Если таких комбинаций больше 1, выведите любую.\n",
        "Формат ввода:\n",
        "Список целых чисел n, где (). Числа принимают значения i, где ()"
      ],
      "metadata": {
        "id": "Dn8KNyO6lxq6"
      }
    },
    {
      "cell_type": "code",
      "source": [
        "# Я хочу, чтобы пользователь вводил список чисел в консоль (так красивее), числа при этом будут разделены пробелом. Точка перед сплитом указывает, что ->\n",
        "# -> разбивка на основе разделителя применяется к тому, что введено в консоль. Map возвращает целое число (int) из каждой полученной подстроки. Также ставим ограничение\n",
        "def get_numbers():\n",
        "    return list(map(int, input().split()))\n",
        "\n",
        "# Дальше список должен быть отсортирован по возрастанию\n",
        "def find_min_max_pairs(numbers):\n",
        "    sorted_numbers = sorted(numbers)\n",
        "\n",
        "# Выбираются два наименьших числа и два наибольших числа в списке по возрастанию, так как произведение двух отрицательных - положительное число\n",
        "    min_pair = sorted_numbers[:2]\n",
        "    max_pair = sorted_numbers[-2:]\n",
        "    return min_pair, max_pair\n",
        "\n",
        "# Как было оговорено ранее, необходимы произведение и максимальных положительных, и минимальных отрицательных\n",
        "def compare_products(min_pair, max_pair):\n",
        "    min_product = min_pair[0] * min_pair[1]\n",
        "    max_product = max_pair[0] * max_pair[1]\n",
        "    return min_pair if min_product > max_product else max_pair\n",
        "\n",
        "# Задание готово!\n",
        "def task1():\n",
        "    print(\"Введите числа:\")\n",
        "    numbers = get_numbers()\n",
        "    if len(numbers) < 2:\n",
        "        print('Нужно хотя бы 2 числа')\n",
        "        return\n",
        "    min_pair, max_pair = find_min_max_pairs(numbers)\n",
        "    result = compare_products(min_pair, max_pair)\n",
        "    print(\"Числа:\",*result)\n",
        "\n",
        "if __name__ == \"__main__\":\n",
        "    task1()"
      ],
      "metadata": {
        "colab": {
          "base_uri": "https://localhost:8080/"
        },
        "id": "zTivm11tyy-Y",
        "outputId": "0b16e866-bff2-4aa2-b42e-0dedd7ccf748"
      },
      "execution_count": 12,
      "outputs": [
        {
          "output_type": "stream",
          "name": "stdout",
          "text": [
            "Введите числа:\n",
            "-10 8 -70 85 1 \n",
            "Числа: -70 -10\n"
          ]
        }
      ]
    }
  ]
}