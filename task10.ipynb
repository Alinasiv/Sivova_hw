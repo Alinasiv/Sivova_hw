{
  "nbformat": 4,
  "nbformat_minor": 0,
  "metadata": {
    "colab": {
      "provenance": [],
      "authorship_tag": "ABX9TyNhk5Tc0ywC2XH+NxJBt4rI",
      "include_colab_link": true
    },
    "kernelspec": {
      "name": "python3",
      "display_name": "Python 3"
    },
    "language_info": {
      "name": "python"
    }
  },
  "cells": [
    {
      "cell_type": "markdown",
      "metadata": {
        "id": "view-in-github",
        "colab_type": "text"
      },
      "source": [
        "<a href=\"https://colab.research.google.com/github/Alinasiv/Sivova_hw/blob/main/task10.ipynb\" target=\"_parent\"><img src=\"https://colab.research.google.com/assets/colab-badge.svg\" alt=\"Open In Colab\"/></a>"
      ]
    },
    {
      "cell_type": "markdown",
      "source": [
        "**Task10: Евклидово расстояние**\n",
        "На вход подается np.ndarray размерности NxM, где 2<=N,M<=10^3. Каждая строка - вектор, необходимо составить матрицу размера NxN, где [i,j] элемент будет соответствовать евклидову расстоянию между векторами i и j."
      ],
      "metadata": {
        "id": "3rb3st0hYOtM"
      }
    },
    {
      "cell_type": "code",
      "execution_count": 1,
      "metadata": {
        "id": "eAjXclDwYM7o"
      },
      "outputs": [],
      "source": [
        "import numpy as np"
      ]
    },
    {
      "cell_type": "code",
      "source": [
        "# Определяем фунцию для евклидова расстояния\n",
        "def task10(matrix: np.ndarray) -> np.ndarray:\n",
        "    # Вычисляем евклидово расстояние между всеми парами векторов\n",
        "    # Сначала создаем трехмерный массив, добавляя новую ось. Затем каждая строка matrix вычитается из столбца matrix[:, None]\n",
        "    # Функция np.linalg.norm высчитывает евклидово расстояние Параметр axis=-1 указывает, что норма должна быть вычислена по третьему измерению, где содержатся разности между i и j.\n",
        "    distances = np.linalg.norm(matrix[:, None] - matrix, axis=-1)\n",
        "    return distances\n",
        "\n",
        "# Проблематично добавляем консоль\n",
        "if __name__ == \"__main__\":\n",
        "    try:\n",
        "        # Запрашиваем матрицу и преобразуем ее в массив NumPy\n",
        "        matrix_str = input(\"Введите матрицу NxM, где 2<=N,M<=10^3 (каждая строка - вектор), в виде [],[]: \") #запрос строки\n",
        "        matrix = eval(matrix_str) #принимаем строку как список списков (Python-код)\n",
        "        matrix = np.array(matrix) # Преобразуем в массив NumPy\n",
        "\n",
        "        # Проверяем размерность матрицы\n",
        "        N, M = matrix.shape\n",
        "        if N < 2 or M < 2 or N > 10**3 or M > 10**3:\n",
        "            raise ValueError(\"Неверные размеры матрицы. Должно быть 2<=N,M<=10^3.\")\n",
        "\n",
        "        # Проверяем, двухмерность\n",
        "        if len(matrix.shape) != 2:\n",
        "            raise ValueError(\"Неверный формат ввода. Введите двухмерный массив.\")\n",
        "\n",
        "        # Вызываем функцию task10\n",
        "        result = task10(matrix)\n",
        "\n",
        "        # Победа!\n",
        "        print(\"Матрица с соответствием элементов евклидову расстоянию:\")\n",
        "        for row in result:\n",
        "            print(\" \".join(map(str, row)))\n",
        "\n",
        "    except Exception as e:\n",
        "        print(\"Ошибка ввода:\", e)"
      ],
      "metadata": {
        "colab": {
          "base_uri": "https://localhost:8080/"
        },
        "id": "OGNn7psAYllS",
        "outputId": "60c1a4a3-2207-48f5-a46d-a49bfaa5046f"
      },
      "execution_count": 7,
      "outputs": [
        {
          "output_type": "stream",
          "name": "stdout",
          "text": [
            "Введите матрицу NxM, где 2<=N,M<=10^3 (каждая строка - вектор), в виде [],[]: [2,7],[5,8],[3,6]\n",
            "Матрица с соответствием элементов евклидову расстоянию:\n",
            "0.0 3.1622776601683795 1.4142135623730951\n",
            "3.1622776601683795 0.0 2.8284271247461903\n",
            "1.4142135623730951 2.8284271247461903 0.0\n"
          ]
        }
      ]
    }
  ]
}