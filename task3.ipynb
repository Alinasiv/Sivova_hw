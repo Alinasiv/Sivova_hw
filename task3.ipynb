{
  "nbformat": 4,
  "nbformat_minor": 0,
  "metadata": {
    "colab": {
      "provenance": [],
      "authorship_tag": "ABX9TyOh5EP+fiXM7SXOvsWaCQHE",
      "include_colab_link": true
    },
    "kernelspec": {
      "name": "python3",
      "display_name": "Python 3"
    },
    "language_info": {
      "name": "python"
    }
  },
  "cells": [
    {
      "cell_type": "markdown",
      "metadata": {
        "id": "view-in-github",
        "colab_type": "text"
      },
      "source": [
        "<a href=\"https://colab.research.google.com/github/Alinasiv/Sivova_hw/blob/main/task3.ipynb\" target=\"_parent\"><img src=\"https://colab.research.google.com/assets/colab-badge.svg\" alt=\"Open In Colab\"/></a>"
      ]
    },
    {
      "cell_type": "markdown",
      "source": [
        "Task3: Возрастает ли список?\n",
        "Дан список. Определите, является ли он монотонно возрастающим (то есть верно ли, что каждый элемент этого списка больше предыдущего)."
      ],
      "metadata": {
        "id": "bLB-E7cO_-U7"
      }
    },
    {
      "cell_type": "code",
      "source": [
        "# Снова вводим все в консоль. Пояснения к коду в task1\n",
        "num = list(map(int, input().split()))\n",
        "# На всякий случай укажу, что список состоит не менее, чем из двух чисел\n",
        "if len(num) < 2:\n",
        "    print ('Нужно хотя бы 2 числа')\n",
        "    exit (0)\n",
        "\n",
        "# Копируем наш список в новую переменную ради будущего этого кода\n",
        "num_sort = num\n",
        "\n",
        "# Теперь проверяем, похожа ли новая переменная на отсортированный изначальный список.\n",
        "# Также с помощью set проверим список на дубли, чтобы они не помешали результату\n",
        "if num_sort == sorted(num) and len(set(num_sort)) == len(num):\n",
        "    print(\"Возрастает\")\n",
        "else:\n",
        "    print(\"Нет, не возрастает\")\n"
      ],
      "metadata": {
        "colab": {
          "base_uri": "https://localhost:8080/"
        },
        "id": "YMK_z1aX__4x",
        "outputId": "317e9b72-bc4f-40c3-b391-4ef163da4ec9"
      },
      "execution_count": 8,
      "outputs": [
        {
          "output_type": "stream",
          "name": "stdout",
          "text": [
            "-10 1 5\n",
            "Возрастает\n"
          ]
        }
      ]
    }
  ]
}