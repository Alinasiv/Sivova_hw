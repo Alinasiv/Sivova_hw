{
  "nbformat": 4,
  "nbformat_minor": 0,
  "metadata": {
    "colab": {
      "provenance": [],
      "authorship_tag": "ABX9TyN6Cd1JrXXVCBdVh2G84Cx1",
      "include_colab_link": true
    },
    "kernelspec": {
      "name": "python3",
      "display_name": "Python 3"
    },
    "language_info": {
      "name": "python"
    }
  },
  "cells": [
    {
      "cell_type": "markdown",
      "metadata": {
        "id": "view-in-github",
        "colab_type": "text"
      },
      "source": [
        "<a href=\"https://colab.research.google.com/github/Alinasiv/Sivova_hw/blob/main/task3.ipynb\" target=\"_parent\"><img src=\"https://colab.research.google.com/assets/colab-badge.svg\" alt=\"Open In Colab\"/></a>"
      ]
    },
    {
      "cell_type": "markdown",
      "source": [
        "Task3: Возрастает ли список?\n",
        "Дан список. Определите, является ли он монотонно возрастающим (то есть верно ли, что каждый элемент этого списка больше предыдущего)."
      ],
      "metadata": {
        "id": "bLB-E7cO_-U7"
      }
    },
    {
      "cell_type": "code",
      "source": [
        "# Снова вводим все в консоль. Пояснения к коду в task1\n",
        "def user_input():\n",
        "    print(\"Введите список:\")\n",
        "    return list(map(int, input().split()))\n",
        "# На всякий случай укажу, что список состоит не менее, чем из двух чисел\n",
        "def task3(num):\n",
        "    if len(num) < 2:\n",
        "        print('Нужно хотя бы 2 числа')\n",
        "        return False\n",
        "# Теперь проверяем, похожа ли новая переменная на отсортированный изначальный список.\n",
        "# Также с помощью set проверим список на дубли, чтобы они не помешали результату\n",
        "    return num == sorted(num) and len(set(num)) == len(num)\n",
        "numbers = user_input()\n",
        "print(\"Список возрастает монотонно?\", task3(numbers))"
      ],
      "metadata": {
        "colab": {
          "base_uri": "https://localhost:8080/"
        },
        "id": "YMK_z1aX__4x",
        "outputId": "004884e0-34dd-4747-d4a4-0fdd01605492"
      },
      "execution_count": 3,
      "outputs": [
        {
          "output_type": "stream",
          "name": "stdout",
          "text": [
            "Введите список:\n",
            "-200 1 89\n",
            "Список возрастает монотонно? True\n"
          ]
        }
      ]
    }
  ]
}