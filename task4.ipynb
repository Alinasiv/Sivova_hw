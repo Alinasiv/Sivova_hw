{
  "nbformat": 4,
  "nbformat_minor": 0,
  "metadata": {
    "colab": {
      "provenance": [],
      "authorship_tag": "ABX9TyOu3X/d3qgmlLVZ11va5+Wn",
      "include_colab_link": true
    },
    "kernelspec": {
      "name": "python3",
      "display_name": "Python 3"
    },
    "language_info": {
      "name": "python"
    }
  },
  "cells": [
    {
      "cell_type": "markdown",
      "metadata": {
        "id": "view-in-github",
        "colab_type": "text"
      },
      "source": [
        "<a href=\"https://colab.research.google.com/github/Alinasiv/Sivova_hw/blob/main/task4.ipynb\" target=\"_parent\"><img src=\"https://colab.research.google.com/assets/colab-badge.svg\" alt=\"Open In Colab\"/></a>"
      ]
    },
    {
      "cell_type": "markdown",
      "source": [
        "Task4: Количество уникальных гласных\n",
        "На вход подается строка, выведите количество уникальных гласных в ней (гласные это [а,у,о,ы,э,я,ю,ё,и,е])."
      ],
      "metadata": {
        "id": "fwOAJjFnGyJ0"
      }
    },
    {
      "cell_type": "code",
      "source": [
        "# Новое начало: определяем новую функцию для подсчета гласных, в будущем пригодится. Определяем что в нее входит.\n",
        "def count_unique_vowels(vowels):\n",
        "\n",
        "# Гласные должны быть уникальными, то есть без дублей. Для этого используем set.\n",
        "    unique_vowels = set(vowels)\n",
        "\n",
        "# Инициализируем переменную count для подсчета гласных. Для этого определяем, что такое уникальные гласны, и фиксируем их списком.\n",
        "    count = 0\n",
        "    for vowels in unique_vowels:\n",
        "        if vowels in {'а', 'у', 'о', 'ы', 'э', 'я', 'ю', 'ё', 'и', 'е'}:\n",
        "            count += 1\n",
        "# Возвращаем count в ту часть, где она была вызвана\n",
        "    return count\n",
        "\n",
        "# По классике вызываем консоль для ввода, но меняем формат на string\n",
        "vowels = list(map(str, input().split(',')))\n",
        "\n",
        "# Для большего смысле ставим ограничение на список\n",
        "if len(vowels) < 2:\n",
        "    print('Нужно хотя бы 2 буквы')\n",
        "    exit(0)\n",
        "\n",
        "# Выводим результат!\n",
        "quantity = count_unique_vowels(vowels)\n",
        "print(\"Количество:\", quantity)\n",
        "\n"
      ],
      "metadata": {
        "id": "iTe7x9AZG0CC",
        "colab": {
          "base_uri": "https://localhost:8080/"
        },
        "outputId": "5925b7a4-2837-457d-bbca-99f66115f339"
      },
      "execution_count": 7,
      "outputs": [
        {
          "output_type": "stream",
          "name": "stdout",
          "text": [
            "а,у,о,ы,э,я,ю,ё,и,е,е,и,н,д\n",
            "Количество: 10\n"
          ]
        }
      ]
    }
  ]
}