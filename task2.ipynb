{
  "nbformat": 4,
  "nbformat_minor": 0,
  "metadata": {
    "colab": {
      "provenance": [],
      "authorship_tag": "ABX9TyNURfTtT6gQZeLNLe9qa52Y",
      "include_colab_link": true
    },
    "kernelspec": {
      "name": "python3",
      "display_name": "Python 3"
    },
    "language_info": {
      "name": "python"
    }
  },
  "cells": [
    {
      "cell_type": "markdown",
      "metadata": {
        "id": "view-in-github",
        "colab_type": "text"
      },
      "source": [
        "<a href=\"https://colab.research.google.com/github/Alinasiv/Sivova_hw/blob/main/task2.ipynb\" target=\"_parent\"><img src=\"https://colab.research.google.com/assets/colab-badge.svg\" alt=\"Open In Colab\"/></a>"
      ]
    },
    {
      "cell_type": "code",
      "execution_count": null,
      "metadata": {
        "id": "GredtoQH6SES"
      },
      "outputs": [],
      "source": [
        "Task2: Наибольшее произведение трех чисел\n",
        "Дан список, заполненный произвольными целыми числами. Найдите в этом списке ТРИ числа, произведение которых максимально.\n",
        "Выведите эти числа в любом порядке. Если таких комбинаций больше 1, выведите любую."
      ]
    },
    {
      "cell_type": "code",
      "source": [
        "#Как и в задании 2, хочу вводить все в консоль. Пояснения к коду в task1\n",
        "num = list(map(int, input().split()))\n",
        "if len(num) < 3:\n",
        "    print ('Нужно хотя бы 3 числа')\n",
        "    exit (0)\n",
        "\n",
        "# Список снова должен быть отсортирован по возрастанию\n",
        "sorted_num = sorted(num)\n",
        "\n",
        "# Выбираются два наименьших числа и три наибольших числа в списке по возрастанию, так как произведение двух отрицательных - положительное число\n",
        "min_num = sorted_num[:2]\n",
        "max_num = sorted_num[-3:]\n",
        "\n",
        "# Как было оговорено ранее, необходимы произведение и максимальных положительных, и двух минимальных отрицательных с максимальным положительным\n",
        "neg_product = min_num[0] * min_num[1] * max_num[2]\n",
        "pos_product = max_num[0] * max_num[1] * max_num[2]\n",
        "\n",
        "# Сравниваем произведения\n",
        "if neg_product > pos_product:\n",
        "    print(\"Числа:\", min_num[0], min_num[1], max_num[2])\n",
        "else:\n",
        "    print(\"Числа:\", max_num[0], max_num[1], max_num[2])\n",
        "\n",
        "# Задание готово!"
      ],
      "metadata": {
        "colab": {
          "base_uri": "https://localhost:8080/"
        },
        "id": "swRU6Zno6YCg",
        "outputId": "c5bfe539-47ce-454c-9ca2-570648be40b3"
      },
      "execution_count": 2,
      "outputs": [
        {
          "output_type": "stream",
          "name": "stdout",
          "text": [
            "-20 -100 1  6 9\n",
            "Числа: -100 -20 9\n"
          ]
        }
      ]
    }
  ]
}