{
  "nbformat": 4,
  "nbformat_minor": 0,
  "metadata": {
    "colab": {
      "provenance": [],
      "authorship_tag": "ABX9TyMRvc7wPdU87N2Zp+GZVx9N",
      "include_colab_link": true
    },
    "kernelspec": {
      "name": "python3",
      "display_name": "Python 3"
    },
    "language_info": {
      "name": "python"
    }
  },
  "cells": [
    {
      "cell_type": "markdown",
      "metadata": {
        "id": "view-in-github",
        "colab_type": "text"
      },
      "source": [
        "<a href=\"https://colab.research.google.com/github/Alinasiv/Sivova_hw/blob/main/task6.ipynb\" target=\"_parent\"><img src=\"https://colab.research.google.com/assets/colab-badge.svg\" alt=\"Open In Colab\"/></a>"
      ]
    },
    {
      "cell_type": "markdown",
      "source": [
        "**Task6: Наибольшая подстрока палиндром**\n",
        "На вход подается строка, найдите максимальную по длине подстроку, которая является палиндромом и выведите ее длину."
      ],
      "metadata": {
        "id": "fX5BILmMUHVH"
      }
    },
    {
      "cell_type": "code",
      "source": [
        "# Определяем новую функцию для определения подпалиндрома\n",
        "def task6(s):\n",
        "# Преобразуем строку в нижний регистр, чтобы учитывать как палиндромы и исключения в виде имен, удаляем пробелы\n",
        "    s = s.lower()\n",
        "    s = s.replace(\" \", \"\")\n",
        "\n",
        "# Определяем переменную для хранения длины наибольшей палиндромной подстроки\n",
        "    max_length = 0\n",
        "# Переменная просто для хранения самой длинной палиндромной подстроки\n",
        "    max_substring = \"\"\n",
        "    n = len(s)\n",
        "    # Перебираем все подстроки и проверяем их на палиндромичность (i - для начала подстроки, j - для конца)\n",
        "    for i in range(n):\n",
        "        for j in range(i+1, n+1):\n",
        "            substring = s[i:j]\n",
        "\n",
        "# Если текущая подстрока палиндромна и длина её больше максимальной, обновляем максимальную длину и подстроку\n",
        "            if substring == substring[::-1] and len(substring) > max_length:\n",
        "                max_length = len(substring)\n",
        "                max_substring = substring\n",
        "    return max_length\n",
        "\n",
        "input_string = input(\"Введите строку: \")\n",
        "print(\"Длина максимальной палиндромной подстроки:\", task6(input_string))"
      ],
      "metadata": {
        "colab": {
          "base_uri": "https://localhost:8080/"
        },
        "id": "aoc9gbItUOwP",
        "outputId": "795c179b-cf35-4451-ac19-00fffc3ad72e"
      },
      "execution_count": 1,
      "outputs": [
        {
          "output_type": "stream",
          "name": "stdout",
          "text": [
            "Введите строку: Мама мыла раму\n",
            "Длина максимальной палиндромной подстроки: 5\n"
          ]
        }
      ]
    }
  ]
}