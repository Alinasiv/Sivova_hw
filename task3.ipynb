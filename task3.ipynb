{
  "nbformat": 4,
  "nbformat_minor": 0,
  "metadata": {
    "colab": {
      "provenance": [],
      "authorship_tag": "ABX9TyMECS4dmuha5N0tjwwc6/zK",
      "include_colab_link": true
    },
    "kernelspec": {
      "name": "python3",
      "display_name": "Python 3"
    },
    "language_info": {
      "name": "python"
    }
  },
  "cells": [
    {
      "cell_type": "markdown",
      "metadata": {
        "id": "view-in-github",
        "colab_type": "text"
      },
      "source": [
        "<a href=\"https://colab.research.google.com/github/Alinasiv/Sivova_hw/blob/main/task3.ipynb\" target=\"_parent\"><img src=\"https://colab.research.google.com/assets/colab-badge.svg\" alt=\"Open In Colab\"/></a>"
      ]
    },
    {
      "cell_type": "markdown",
      "source": [
        "Task3: Возрастает ли список?\n",
        "Дан список. Определите, является ли он монотонно возрастающим (то есть верно ли, что каждый элемент этого списка больше предыдущего)."
      ],
      "metadata": {
        "id": "bLB-E7cO_-U7"
      }
    },
    {
      "cell_type": "code",
      "source": [
        "# Снова вводим все в консоль. Пояснения к коду в task1\n",
        "def task3():\n",
        "    return list(map(int, input().split()))\n",
        "# На всякий случай укажу, что список состоит не менее, чем из двух чисел\n",
        "def check_sorted_and_unique(num):\n",
        "    if len(num) < 2:\n",
        "        print('Нужно хотя бы 2 числа')\n",
        "        return False\n",
        "# Теперь проверяем, похожа ли новая переменная на отсортированный изначальный список.\n",
        "# Также с помощью set проверим список на дубли, чтобы они не помешали результату\n",
        "    return num == sorted(num) and len(set(num)) == len(num)\n",
        "numbers = task3()\n",
        "print(check_sorted_and_unique(numbers))"
      ],
      "metadata": {
        "colab": {
          "base_uri": "https://localhost:8080/"
        },
        "id": "YMK_z1aX__4x",
        "outputId": "f134a811-ce50-4ba2-88f8-58fcb0fe22b8"
      },
      "execution_count": 14,
      "outputs": [
        {
          "output_type": "stream",
          "name": "stdout",
          "text": [
            "-200 1 89\n",
            "True\n"
          ]
        }
      ]
    }
  ]
}