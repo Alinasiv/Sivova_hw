{
  "nbformat": 4,
  "nbformat_minor": 0,
  "metadata": {
    "colab": {
      "provenance": [],
      "authorship_tag": "ABX9TyOt9PjhH6PsLs8Q/p/wLhja",
      "include_colab_link": true
    },
    "kernelspec": {
      "name": "python3",
      "display_name": "Python 3"
    },
    "language_info": {
      "name": "python"
    }
  },
  "cells": [
    {
      "cell_type": "markdown",
      "metadata": {
        "id": "view-in-github",
        "colab_type": "text"
      },
      "source": [
        "<a href=\"https://colab.research.google.com/github/Alinasiv/Sivova_hw/blob/main/task7.ipynb\" target=\"_parent\"><img src=\"https://colab.research.google.com/assets/colab-badge.svg\" alt=\"Open In Colab\"/></a>"
      ]
    },
    {
      "cell_type": "markdown",
      "source": [
        "**Task7: Максимальный палиндром**\n",
        "На вход подается строка, содержащая буквы алфавита в нижнем регистре. Найдите максимальный палиндром, который можно составить из этих букв и выведите его длину."
      ],
      "metadata": {
        "id": "Nf5P6L9ZhAWk"
      }
    },
    {
      "cell_type": "code",
      "source": [
        "def task7(s):\n",
        "# Создаем список, содержащий количество вхождений каждой уникальной буквы в строке\n",
        "# С помощбю set первоначально убираем дубли и создаем множество уникальных букв, а цикл переберет каждый уникальный символ a\n",
        " counts = [s.count(a) for a in set(s)]\n",
        "\n",
        "# Считаем количество букв с нечетным количеством вхождений\n",
        " odds = sum(1 for count in counts if count % 2 != 0)\n",
        "\n",
        "# Вычисляем длину максимального палиндрома, учитывая четность или нечетность количества букв\n",
        " return len(s) - max(0, odds - 1)\n",
        "\n",
        "# Получаем входную строку от пользователя\n",
        "s = input(\"Введите строку из букв в нижнем регистре: \")\n",
        "\n",
        "# Выводим длину максимального палиндрома, задание готово!\n",
        "print(\"Максимальная длина палиндрома:\", task7(s))"
      ],
      "metadata": {
        "colab": {
          "base_uri": "https://localhost:8080/"
        },
        "id": "DA02ppoqhO18",
        "outputId": "c396b2f9-e35c-4e6a-f886-fccfd9e8ad31"
      },
      "execution_count": null,
      "outputs": [
        {
          "output_type": "stream",
          "name": "stdout",
          "text": [
            "Введите строку из букв в нижнем регистре: ффрононнль\n",
            "Максимальная длина палиндрома: 7\n"
          ]
        }
      ]
    }
  ]
}