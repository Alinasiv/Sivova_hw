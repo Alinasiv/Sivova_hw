{
  "nbformat": 4,
  "nbformat_minor": 0,
  "metadata": {
    "colab": {
      "provenance": [],
      "authorship_tag": "ABX9TyOelUyifbIzwwgROw3qE/4C",
      "include_colab_link": true
    },
    "kernelspec": {
      "name": "python3",
      "display_name": "Python 3"
    },
    "language_info": {
      "name": "python"
    }
  },
  "cells": [
    {
      "cell_type": "markdown",
      "metadata": {
        "id": "view-in-github",
        "colab_type": "text"
      },
      "source": [
        "<a href=\"https://colab.research.google.com/github/Alinasiv/Sivova_hw/blob/main/task1.ipynb\" target=\"_parent\"><img src=\"https://colab.research.google.com/assets/colab-badge.svg\" alt=\"Open In Colab\"/></a>"
      ]
    },
    {
      "cell_type": "markdown",
      "source": [
        "Task1: Наибольшее произведение двух чисел\n",
        "Дан список, заполненный произвольными целыми числами. Найдите в этом списке два числа, произведение которых максимально. Выведите эти числа в любом порядке. Если таких комбинаций больше 1, выведите любую.\n",
        "Формат ввода:\n",
        "Список целых чисел n, где (). Числа принимают значения i, где ()"
      ],
      "metadata": {
        "id": "Dn8KNyO6lxq6"
      }
    },
    {
      "cell_type": "code",
      "source": [
        "# Я хочу, чтобы пользователь вводил список чисел в консоль (так красивее), числа при этом будут разделены пробелом. Точка перед сплитом указывает, что ->\n",
        "# -> разбивка на основе разделителя применяется к тому, что введено в консоль. Map возвращает целое число (int) из каждой полученной подстроки\n",
        "num = list(map(int, input().split()))\n",
        "\n",
        "# Дальше список должен быть отсортирован по возрастанию\n",
        "sorted_num = sorted(num)\n",
        "\n",
        "# Выбираются два наименьших числа и два наибольших числа в списке по возрастанию, так как произведение двух отрицательных - положительное число\n",
        "min_num = sorted_num[:2]\n",
        "max_num = sorted_num[-2:]\n",
        "\n",
        "# Как было оговорено ранее, необходимы произведение и максимальных положительных, и минимальных отрицательных\n",
        "min_product = min_num[0] * min_num[1]\n",
        "max_product = max_num[0] * max_num[1]\n",
        "\n",
        "# Сравниваем произведения\n",
        "if min_product > max_product:\n",
        "    result = min_num\n",
        "else:\n",
        "    result = max_num\n",
        "\n",
        "# Задание готово!\n",
        "print(*result)"
      ],
      "metadata": {
        "id": "zTivm11tyy-Y"
      },
      "execution_count": null,
      "outputs": []
    }
  ]
}