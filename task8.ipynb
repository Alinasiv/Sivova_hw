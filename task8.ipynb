{
  "nbformat": 4,
  "nbformat_minor": 0,
  "metadata": {
    "colab": {
      "provenance": [],
      "authorship_tag": "ABX9TyMbR5m+B9aKl8BxmUFuzo3l",
      "include_colab_link": true
    },
    "kernelspec": {
      "name": "python3",
      "display_name": "Python 3"
    },
    "language_info": {
      "name": "python"
    }
  },
  "cells": [
    {
      "cell_type": "markdown",
      "metadata": {
        "id": "view-in-github",
        "colab_type": "text"
      },
      "source": [
        "<a href=\"https://colab.research.google.com/github/Alinasiv/Sivova_hw/blob/main/task8.ipynb\" target=\"_parent\"><img src=\"https://colab.research.google.com/assets/colab-badge.svg\" alt=\"Open In Colab\"/></a>"
      ]
    },
    {
      "cell_type": "markdown",
      "source": [
        "**Task8: Дополнить класс расчетом метрик**\n",
        "Вам дан класс, необходимо дописать расчет различных метрик. Подробнее см. task8.py. P.S. при расчете статистик можете принебречь степенями свободы."
      ],
      "metadata": {
        "id": "nEmtzUD8ACJS"
      }
    },
    {
      "cell_type": "code",
      "execution_count": 1,
      "metadata": {
        "id": "rk_ORXcMAAYD"
      },
      "outputs": [],
      "source": [
        "from typing import Union, List, Tuple\n",
        "import numpy as np"
      ]
    },
    {
      "cell_type": "code",
      "source": [
        "# Определяем наш класс Statistics и указываем, какие вообще данные функция может принять (так как их несколько используем Union и указываем\n",
        "# список, кортеж и массив NumPy с содержанием как целых чисел, так и с плавающей запятой)\n",
        "class Statistics:\n",
        "    def __init__(self, data: Union[List[int|float], Tuple[int|float], np.ndarray[int|float]]):\n",
        "        self.data = data\n",
        "# Просто считаем среднюю\n",
        "    def calculate_mean(self) -> float | int:\n",
        "        return np.mean(self.data)\n",
        "# И медиану\n",
        "    def calculate_median(self) -> float | int:\n",
        "        return np.median(self.data)\n",
        "# А вот тут беда, функцию моды надо прописывать. Указываем формат числовых данных, и задаем функцию, где создается пустой словарь для\n",
        "# хранения полученных частот уникальных объектов. После прохождения по каждому элементу data присваиваются значения +1 за каждое повторение и 0\n",
        "# за их отсутствие. Затем выбирается максимальное и, наконец, создается список чисел с макс.частотой\n",
        "    def calculate_mode(self) -> List[Union[float, int]]:\n",
        "        counts = {}\n",
        "        for value in self.data:\n",
        "           counts[value] = counts.get(value, 0) + 1\n",
        "        max_count = max(counts.values())\n",
        "        modes = [value for value, count in counts.items() if count == max_count]\n",
        "        return list(set(modes))\n",
        "# Функцию стандартного отклонения\n",
        "    def std(self) -> float | int:\n",
        "        return np.std(self.data)\n",
        "# Функция для интерквартильного размаха\n",
        "    def iqr(self) -> float | int:\n",
        "        q3, q1 = np.percentile(self.data, [75 ,25])\n",
        "        return q3 - q1\n",
        "# Осталось прописать консоль ввода\n",
        "def task8() -> List[float]:\n",
        "    print(\"Введите числа через запятую:\")\n",
        "    data_str = input().strip()\n",
        "    data = [float(x) for x in data_str.split(\",\")]\n",
        "    return data\n",
        "\n",
        "# Финал!\n",
        "if __name__ == \"__main__\":\n",
        "    data = task8()\n",
        "    stats = Statistics(data)\n",
        "    print(\"Среднее значение:\", stats.calculate_mean())\n",
        "    print(\"Медиана:\", stats.calculate_median())\n",
        "    print(\"Мода:\", stats.calculate_mode())\n",
        "    print(\"Стандартное отклонение:\", stats.std())\n",
        "    print(\"Интерквартильный размах:\", stats.iqr())"
      ],
      "metadata": {
        "colab": {
          "base_uri": "https://localhost:8080/"
        },
        "id": "qMYBNhrcABqW",
        "outputId": "7f6459cf-7394-465f-df80-9438272a6441"
      },
      "execution_count": 6,
      "outputs": [
        {
          "output_type": "stream",
          "name": "stdout",
          "text": [
            "Введите числа через запятую:\n",
            "1,2,1,7.7,7,7\n",
            "Среднее значение: 4.283333333333333\n",
            "Медиана: 4.5\n",
            "Мода: [1.0, 7.0]\n",
            "Стандартное отклонение: 2.9779280642009396\n",
            "Интерквартильный размах: 5.75\n"
          ]
        }
      ]
    }
  ]
}