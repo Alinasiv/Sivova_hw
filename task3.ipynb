{
  "nbformat": 4,
  "nbformat_minor": 0,
  "metadata": {
    "colab": {
      "provenance": [],
      "authorship_tag": "ABX9TyPy5q1y0IEXdz7Ee872vGe1",
      "include_colab_link": true
    },
    "kernelspec": {
      "name": "python3",
      "display_name": "Python 3"
    },
    "language_info": {
      "name": "python"
    }
  },
  "cells": [
    {
      "cell_type": "markdown",
      "metadata": {
        "id": "view-in-github",
        "colab_type": "text"
      },
      "source": [
        "<a href=\"https://colab.research.google.com/github/Alinasiv/Sivova_hw/blob/main/task3.ipynb\" target=\"_parent\"><img src=\"https://colab.research.google.com/assets/colab-badge.svg\" alt=\"Open In Colab\"/></a>"
      ]
    },
    {
      "cell_type": "markdown",
      "source": [
        "Task3: Возрастает ли список?\n",
        "Дан список. Определите, является ли он монотонно возрастающим (то есть верно ли, что каждый элемент этого списка больше предыдущего)."
      ],
      "metadata": {
        "id": "bLB-E7cO_-U7"
      }
    },
    {
      "cell_type": "code",
      "source": [
        "# Снова вводим все в консоль. Пояснения к коду в task1\n",
        "num = list(map(int, input().split()))\n",
        "# На всякий случай укажу, что список состоит не менее, чем из двух чисел\n",
        "if len(num) < 2:\n",
        "    print ('Нужно хотя бы 2 числа')\n",
        "    exit (0)\n",
        "\n",
        "# Теперь проверяем, похожа ли новая переменная на отсортированный изначальный список.\n",
        "# Также с помощью set проверим список на дубли, чтобы они не помешали результату\n",
        "print(num == sorted(num) and len(set(num)) == len(num))"
      ],
      "metadata": {
        "colab": {
          "base_uri": "https://localhost:8080/"
        },
        "id": "YMK_z1aX__4x",
        "outputId": "b80fc109-8f5c-45bd-d781-ecdc1dbb9080"
      },
      "execution_count": null,
      "outputs": [
        {
          "output_type": "stream",
          "name": "stdout",
          "text": [
            "-10 1 5\n",
            "True\n"
          ]
        }
      ]
    }
  ]
}